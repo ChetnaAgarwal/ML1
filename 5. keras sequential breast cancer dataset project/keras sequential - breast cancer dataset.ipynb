{
 "cells": [
  {
   "cell_type": "code",
   "execution_count": 1,
   "metadata": {},
   "outputs": [
    {
     "name": "stderr",
     "output_type": "stream",
     "text": [
      "C:\\ANACONDA\\lib\\site-packages\\h5py\\__init__.py:36: FutureWarning: Conversion of the second argument of issubdtype from `float` to `np.floating` is deprecated. In future, it will be treated as `np.float64 == np.dtype(float).type`.\n",
      "  from ._conv import register_converters as _register_converters\n",
      "Using TensorFlow backend.\n"
     ]
    }
   ],
   "source": [
    "# keras - layer over tensorflow (can use other backends too - we'll use tensorflow)\n",
    "from keras.models import Sequential \n",
    "# 2 types of models:-\n",
    "# 1. sequential - moves from input to output layer sequentially\n",
    "# 2. functional API model - more complex\n",
    "\n",
    "from keras.layers import Dense\n",
    "# dense layer-(a type of layer) a classic fully connected neural network layer : each input node is connected to each output node"
   ]
  },
  {
   "cell_type": "code",
   "execution_count": 2,
   "metadata": {
    "collapsed": true
   },
   "outputs": [],
   "source": [
    "# step 1 - creating the model\n",
    "model = Sequential()\n",
    "# will use breast cancer dataset :-\n",
    "# 1. 30 inputs, therefore, 30 units in input layer\n",
    "\n",
    "# we are defining the ann as :-\n",
    "# hl1 - 32 units, ReLu activation\n",
    "# hl2 - 16 units, ReLu activation\n",
    "# output layer - 1 unit, Sigmoid function activation - since breast cancer dataset is a binary classification problem\n",
    "\n",
    "# parameters to pass while building models ( first 4 are compulsory to supply, rest optional):-\n",
    "# 1. units\n",
    "# 2. activation\n",
    "# 3. input_shape - shape of input coming in - has to be provided while building model to calculate the no of weights b/w input \n",
    "# and hl1. (have to provide for just the first layer)\n",
    "# 4. use_bias - to specify whether we want to use bias in layers or not\n",
    "# 5. regularisation - to specify any kind of regularisation we might want to use - like l1 or l2 (for biases, weights)\n",
    "# 6. initializers - to specify how we want to initialise our weights and biases - eg random, all zero, all one, etc\n",
    "# 7. constraints  -to specify any constraints on weights, biases"
   ]
  },
  {
   "cell_type": "code",
   "execution_count": 3,
   "metadata": {
    "collapsed": true
   },
   "outputs": [],
   "source": [
    "# step 2 - adding layers\n",
    "layer1 = Dense(units = 32, activation = 'relu', input_dim = 30) # input_shape has to be provided for the first layer\n",
    "# by default, biases are used\n",
    "model.add(layer1)"
   ]
  },
  {
   "cell_type": "code",
   "execution_count": 4,
   "metadata": {
    "collapsed": true
   },
   "outputs": [],
   "source": [
    "# layer2\n",
    "model.add(Dense(units = 16, activation = 'relu'))"
   ]
  },
  {
   "cell_type": "code",
   "execution_count": 5,
   "metadata": {
    "collapsed": true
   },
   "outputs": [],
   "source": [
    "# output layer\n",
    "model.add(Dense(units = 1, activation = 'sigmoid'))"
   ]
  },
  {
   "cell_type": "code",
   "execution_count": 6,
   "metadata": {
    "collapsed": true
   },
   "outputs": [],
   "source": [
    "# step 3 - compiling the model - comprises of 3 things :-\n",
    "# 1. specifying which optimizer to use - sgd, adam, etc\n",
    "# 2. specifying which loss function to use( which will be minimised by the optimiser)\n",
    "# 3. providing metrics we want to print. while optimising, optimizer will print out certain metrics for us after certain steps.\n",
    "# eg - accuracy, sum of squared differences (provided as a list)\n",
    "\n",
    "model.compile(optimizer = 'adam', loss = 'binary_crossentropy', metrics = ['accuracy'] )\n",
    "# we are using binary cross entropy since it is a binary classification problem. if it was a categorical classification problem, \n",
    "# could have used categorical cross entropy"
   ]
  },
  {
   "cell_type": "code",
   "execution_count": 7,
   "metadata": {},
   "outputs": [
    {
     "name": "stdout",
     "output_type": "stream",
     "text": [
      "Train on 455 samples, validate on 114 samples\n",
      "Epoch 1/30\n",
      "455/455 [==============================] - 0s 803us/step - loss: 0.8194 - acc: 0.2725 - val_loss: 0.6612 - val_acc: 0.4912\n",
      "Epoch 2/30\n",
      "455/455 [==============================] - 0s 64us/step - loss: 0.6317 - acc: 0.6549 - val_loss: 0.5296 - val_acc: 0.8509\n",
      "Epoch 3/30\n",
      "455/455 [==============================] - 0s 57us/step - loss: 0.5100 - acc: 0.8615 - val_loss: 0.4451 - val_acc: 0.8509\n",
      "Epoch 4/30\n",
      "455/455 [==============================] - 0s 53us/step - loss: 0.4264 - acc: 0.9011 - val_loss: 0.3792 - val_acc: 0.8860\n",
      "Epoch 5/30\n",
      "455/455 [==============================] - 0s 55us/step - loss: 0.3590 - acc: 0.9253 - val_loss: 0.3245 - val_acc: 0.9123\n",
      "Epoch 6/30\n",
      "455/455 [==============================] - 0s 70us/step - loss: 0.3011 - acc: 0.9385 - val_loss: 0.2783 - val_acc: 0.9035\n",
      "Epoch 7/30\n",
      "455/455 [==============================] - 0s 66us/step - loss: 0.2540 - acc: 0.9407 - val_loss: 0.2424 - val_acc: 0.9123\n",
      "Epoch 8/30\n",
      "455/455 [==============================] - 0s 66us/step - loss: 0.2152 - acc: 0.9429 - val_loss: 0.2156 - val_acc: 0.9298\n",
      "Epoch 9/30\n",
      "455/455 [==============================] - 0s 59us/step - loss: 0.1845 - acc: 0.9516 - val_loss: 0.1949 - val_acc: 0.9298\n",
      "Epoch 10/30\n",
      "455/455 [==============================] - 0s 57us/step - loss: 0.1617 - acc: 0.9538 - val_loss: 0.1788 - val_acc: 0.9298\n",
      "Epoch 11/30\n",
      "455/455 [==============================] - 0s 59us/step - loss: 0.1425 - acc: 0.9582 - val_loss: 0.1668 - val_acc: 0.9211\n",
      "Epoch 12/30\n",
      "455/455 [==============================] - 0s 70us/step - loss: 0.1270 - acc: 0.9648 - val_loss: 0.1574 - val_acc: 0.9211\n",
      "Epoch 13/30\n",
      "455/455 [==============================] - 0s 68us/step - loss: 0.1156 - acc: 0.9692 - val_loss: 0.1499 - val_acc: 0.9298\n",
      "Epoch 14/30\n",
      "455/455 [==============================] - 0s 64us/step - loss: 0.1062 - acc: 0.9714 - val_loss: 0.1437 - val_acc: 0.9298\n",
      "Epoch 15/30\n",
      "455/455 [==============================] - 0s 48us/step - loss: 0.0976 - acc: 0.9758 - val_loss: 0.1392 - val_acc: 0.9298\n",
      "Epoch 16/30\n",
      "455/455 [==============================] - 0s 66us/step - loss: 0.0911 - acc: 0.9802 - val_loss: 0.1351 - val_acc: 0.9211\n",
      "Epoch 17/30\n",
      "455/455 [==============================] - 0s 59us/step - loss: 0.0853 - acc: 0.9802 - val_loss: 0.1305 - val_acc: 0.9211\n",
      "Epoch 18/30\n",
      "455/455 [==============================] - 0s 68us/step - loss: 0.0795 - acc: 0.9846 - val_loss: 0.1282 - val_acc: 0.9211\n",
      "Epoch 19/30\n",
      "455/455 [==============================] - 0s 61us/step - loss: 0.0749 - acc: 0.9846 - val_loss: 0.1272 - val_acc: 0.9211\n",
      "Epoch 20/30\n",
      "455/455 [==============================] - 0s 53us/step - loss: 0.0713 - acc: 0.9846 - val_loss: 0.1262 - val_acc: 0.9211\n",
      "Epoch 21/30\n",
      "455/455 [==============================] - 0s 66us/step - loss: 0.0679 - acc: 0.9846 - val_loss: 0.1255 - val_acc: 0.9211\n",
      "Epoch 22/30\n",
      "455/455 [==============================] - 0s 70us/step - loss: 0.0651 - acc: 0.9868 - val_loss: 0.1248 - val_acc: 0.9211\n",
      "Epoch 23/30\n",
      "455/455 [==============================] - 0s 61us/step - loss: 0.0624 - acc: 0.9890 - val_loss: 0.1251 - val_acc: 0.9298\n",
      "Epoch 24/30\n",
      "455/455 [==============================] - 0s 61us/step - loss: 0.0599 - acc: 0.9890 - val_loss: 0.1246 - val_acc: 0.9298\n",
      "Epoch 25/30\n",
      "455/455 [==============================] - 0s 64us/step - loss: 0.0580 - acc: 0.9890 - val_loss: 0.1245 - val_acc: 0.9298\n",
      "Epoch 26/30\n",
      "455/455 [==============================] - 0s 53us/step - loss: 0.0556 - acc: 0.9890 - val_loss: 0.1247 - val_acc: 0.9298\n",
      "Epoch 27/30\n",
      "455/455 [==============================] - 0s 59us/step - loss: 0.0537 - acc: 0.9890 - val_loss: 0.1243 - val_acc: 0.9298\n",
      "Epoch 28/30\n",
      "455/455 [==============================] - 0s 44us/step - loss: 0.0519 - acc: 0.9890 - val_loss: 0.1240 - val_acc: 0.9386\n",
      "Epoch 29/30\n",
      "455/455 [==============================] - 0s 61us/step - loss: 0.0503 - acc: 0.9890 - val_loss: 0.1246 - val_acc: 0.9386\n",
      "Epoch 30/30\n",
      "455/455 [==============================] - 0s 57us/step - loss: 0.0486 - acc: 0.9890 - val_loss: 0.1254 - val_acc: 0.9386\n"
     ]
    },
    {
     "data": {
      "text/plain": [
       "<keras.callbacks.History at 0x206b42591d0>"
      ]
     },
     "execution_count": 7,
     "metadata": {},
     "output_type": "execute_result"
    }
   ],
   "source": [
    "# fitting the data\n",
    "# arguments for fit() :-\n",
    "# 1. x\n",
    "# 2. y\n",
    "# 3. epochs - no of times we want to run the iterations. By default, it is 1\n",
    "# 4. batch_size - default batch size - 32. \n",
    "# if we take batch_size to be 50, epochs to be 40 and we have 1000 traning data points - will go through all 1000 data points\n",
    "# 40 times but will update the weights after every 50 data points ( 20 times in every iteration)\n",
    "# 5. validation data - can provide testing data here( x_test and y_test) and after every iteration, will tell the accuracy \n",
    "# on validation data\n",
    "\n",
    "from sklearn import datasets\n",
    "cancer = datasets.load_breast_cancer()\n",
    "from sklearn.model_selection import train_test_split\n",
    "x_train, x_test, y_train, y_test = train_test_split(cancer.data, cancer.target, test_size = 0.2, random_state = 0)\n",
    "\n",
    "from sklearn.preprocessing import StandardScaler\n",
    "sc = StandardScaler()\n",
    "x_train = sc.fit_transform(x_train)\n",
    "x_test = sc.transform(x_test)\n",
    "\n",
    "model.fit(x_train, y_train, epochs = 30, batch_size = 50, validation_data = (x_test, y_test))"
   ]
  },
  {
   "cell_type": "code",
   "execution_count": 8,
   "metadata": {},
   "outputs": [
    {
     "data": {
      "text/plain": [
       "array([[5.8229570e-03],\n",
       "       [9.6659774e-01],\n",
       "       [9.9778014e-01],\n",
       "       [9.9235463e-01],\n",
       "       [9.9808002e-01],\n",
       "       [9.9602866e-01],\n",
       "       [9.9944407e-01],\n",
       "       [9.9871206e-01],\n",
       "       [9.9992132e-01],\n",
       "       [9.9978656e-01],\n",
       "       [4.6164513e-01],\n",
       "       [9.4295257e-01],\n",
       "       [9.9982506e-01],\n",
       "       [3.0588475e-01],\n",
       "       [4.6714860e-01],\n",
       "       [4.2292536e-03],\n",
       "       [9.9348128e-01],\n",
       "       [2.6310386e-06],\n",
       "       [1.1073518e-04],\n",
       "       [3.4621760e-08],\n",
       "       [5.7836864e-03],\n",
       "       [4.5518382e-03],\n",
       "       [9.8883879e-01],\n",
       "       [9.9711370e-01],\n",
       "       [9.3597890e-05],\n",
       "       [9.9806887e-01],\n",
       "       [9.9981600e-01],\n",
       "       [1.8857045e-02],\n",
       "       [9.9714655e-01],\n",
       "       [3.6740907e-06],\n",
       "       [9.9932706e-01],\n",
       "       [2.3835439e-04],\n",
       "       [8.4179038e-01],\n",
       "       [9.5014233e-04],\n",
       "       [9.9997914e-01],\n",
       "       [7.0298794e-03],\n",
       "       [9.8684001e-01],\n",
       "       [4.4200773e-04],\n",
       "       [9.8925859e-01],\n",
       "       [5.4593394e-03],\n",
       "       [6.1489392e-02],\n",
       "       [9.9941838e-01],\n",
       "       [6.9725364e-02],\n",
       "       [9.9976295e-01],\n",
       "       [9.7187728e-01],\n",
       "       [1.2492040e-07],\n",
       "       [9.9998808e-01],\n",
       "       [9.7895724e-01],\n",
       "       [9.9890280e-01],\n",
       "       [3.0025254e-05],\n",
       "       [1.0914569e-04],\n",
       "       [3.5075765e-02],\n",
       "       [7.0295151e-05],\n",
       "       [9.9855000e-01],\n",
       "       [9.9016738e-01],\n",
       "       [9.9928278e-01],\n",
       "       [9.9840862e-01],\n",
       "       [9.7337818e-01],\n",
       "       [9.9077421e-01],\n",
       "       [6.0269381e-09],\n",
       "       [1.7052893e-02],\n",
       "       [9.0487450e-03],\n",
       "       [9.9945980e-01],\n",
       "       [9.9521637e-01],\n",
       "       [1.2526590e-03],\n",
       "       [8.9204848e-01],\n",
       "       [9.9931131e-13],\n",
       "       [2.8475745e-06],\n",
       "       [3.0693016e-06],\n",
       "       [9.9896812e-01],\n",
       "       [4.9127331e-01],\n",
       "       [2.5277315e-05],\n",
       "       [9.9692231e-01],\n",
       "       [4.6374279e-01],\n",
       "       [4.4863805e-06],\n",
       "       [9.8456317e-01],\n",
       "       [9.9991000e-01],\n",
       "       [9.6356392e-01],\n",
       "       [9.9935263e-01],\n",
       "       [9.9975365e-01],\n",
       "       [1.4931017e-02],\n",
       "       [2.8055555e-10],\n",
       "       [3.7152109e-05],\n",
       "       [9.9915063e-01],\n",
       "       [1.8118480e-02],\n",
       "       [9.9850887e-01],\n",
       "       [9.9968314e-01],\n",
       "       [9.9996579e-01],\n",
       "       [2.9137562e-04],\n",
       "       [2.8549307e-11],\n",
       "       [9.9984825e-01],\n",
       "       [4.9152064e-01],\n",
       "       [3.9017147e-01],\n",
       "       [1.9881434e-06],\n",
       "       [9.9716598e-01],\n",
       "       [9.9710530e-01],\n",
       "       [7.4820259e-06],\n",
       "       [9.6863830e-01],\n",
       "       [9.8644966e-01],\n",
       "       [9.9575859e-01],\n",
       "       [9.9999321e-01],\n",
       "       [9.9620146e-01],\n",
       "       [9.9588132e-01],\n",
       "       [8.6379433e-01],\n",
       "       [4.0099891e-05],\n",
       "       [9.9881184e-01],\n",
       "       [8.4928325e-07],\n",
       "       [7.6997656e-01],\n",
       "       [7.1811086e-01],\n",
       "       [9.9638087e-01],\n",
       "       [9.7819740e-01],\n",
       "       [2.4082115e-05],\n",
       "       [1.2519119e-04],\n",
       "       [7.0848942e-01]], dtype=float32)"
      ]
     },
     "execution_count": 8,
     "metadata": {},
     "output_type": "execute_result"
    }
   ],
   "source": [
    "# evaluations and predictions\n",
    "predictions = model.predict(x_test)\n",
    "predictions"
   ]
  },
  {
   "cell_type": "code",
   "execution_count": 9,
   "metadata": {},
   "outputs": [
    {
     "name": "stdout",
     "output_type": "stream",
     "text": [
      "114/114 [==============================] - 0s 0us/step\n"
     ]
    },
    {
     "data": {
      "text/plain": [
       "[0.12543008829417981, 0.9385964922737657]"
      ]
     },
     "execution_count": 9,
     "metadata": {},
     "output_type": "execute_result"
    }
   ],
   "source": [
    "score =model.evaluate(x_test, y_test)\n",
    "score # prints loss function and accuracy - will provide us the same metrics we specified in compile()"
   ]
  },
  {
   "cell_type": "code",
   "execution_count": 10,
   "metadata": {
    "collapsed": true
   },
   "outputs": [],
   "source": [
    "# end"
   ]
  }
 ],
 "metadata": {
  "kernelspec": {
   "display_name": "Python 3",
   "language": "python",
   "name": "python3"
  },
  "language_info": {
   "codemirror_mode": {
    "name": "ipython",
    "version": 3
   },
   "file_extension": ".py",
   "mimetype": "text/x-python",
   "name": "python",
   "nbconvert_exporter": "python",
   "pygments_lexer": "ipython3",
   "version": "3.6.3"
  }
 },
 "nbformat": 4,
 "nbformat_minor": 2
}
