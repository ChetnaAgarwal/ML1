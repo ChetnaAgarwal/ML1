{
 "cells": [
  {
   "cell_type": "code",
   "execution_count": 1,
   "metadata": {
    "collapsed": true
   },
   "outputs": [],
   "source": [
    "import numpy as np\n",
    "data = np.loadtxt(\"training_boston_x_y_train.csv\", delimiter = \",\")"
   ]
  },
  {
   "cell_type": "code",
   "execution_count": 2,
   "metadata": {},
   "outputs": [
    {
     "data": {
      "text/plain": [
       "array([[-0.40784991, -0.48772236, -1.2660231 , ...,  0.41057102,\n",
       "        -1.09799011, 37.9       ],\n",
       "       [-0.40737368, -0.48772236,  0.24705682, ...,  0.29116915,\n",
       "        -0.52047412, 21.4       ],\n",
       "       [ 0.1251786 , -0.48772236,  1.01599907, ..., -3.79579542,\n",
       "         0.89107588, 12.7       ],\n",
       "       ...,\n",
       "       [-0.40831101, -0.48772236,  0.24705682, ...,  0.33206621,\n",
       "        -0.33404299, 20.8       ],\n",
       "       [-0.41061997, -0.48772236, -1.15221381, ...,  0.203235  ,\n",
       "        -0.74475218, 22.6       ],\n",
       "       [ 0.34290895, -0.48772236,  1.01599907, ...,  0.38787479,\n",
       "        -1.35871335, 50.        ]])"
      ]
     },
     "execution_count": 2,
     "metadata": {},
     "output_type": "execute_result"
    }
   ],
   "source": [
    "data"
   ]
  },
  {
   "cell_type": "code",
   "execution_count": 3,
   "metadata": {},
   "outputs": [
    {
     "data": {
      "text/plain": [
       "(379, 14)"
      ]
     },
     "execution_count": 3,
     "metadata": {},
     "output_type": "execute_result"
    }
   ],
   "source": [
    "data.shape"
   ]
  },
  {
   "cell_type": "code",
   "execution_count": 4,
   "metadata": {
    "collapsed": true
   },
   "outputs": [],
   "source": [
    "x_2d = data[:, 0:13]"
   ]
  },
  {
   "cell_type": "code",
   "execution_count": 5,
   "metadata": {},
   "outputs": [
    {
     "data": {
      "text/plain": [
       "(379, 13)"
      ]
     },
     "execution_count": 5,
     "metadata": {},
     "output_type": "execute_result"
    }
   ],
   "source": [
    "x_2d.shape"
   ]
  },
  {
   "cell_type": "code",
   "execution_count": 6,
   "metadata": {
    "collapsed": true
   },
   "outputs": [],
   "source": [
    "y = data[:,13]"
   ]
  },
  {
   "cell_type": "code",
   "execution_count": 7,
   "metadata": {},
   "outputs": [
    {
     "data": {
      "text/plain": [
       "(379,)"
      ]
     },
     "execution_count": 7,
     "metadata": {},
     "output_type": "execute_result"
    }
   ],
   "source": [
    "y.shape"
   ]
  },
  {
   "cell_type": "code",
   "execution_count": 8,
   "metadata": {
    "collapsed": true
   },
   "outputs": [],
   "source": [
    "x = np.zeros((379, 14)) # x is a 2d np array with an additional row of 1 values\n",
    "x[:,:-1] = x_2d"
   ]
  },
  {
   "cell_type": "code",
   "execution_count": 9,
   "metadata": {
    "collapsed": true
   },
   "outputs": [],
   "source": [
    "x[:,-1] = 1"
   ]
  },
  {
   "cell_type": "code",
   "execution_count": 10,
   "metadata": {},
   "outputs": [
    {
     "data": {
      "text/plain": [
       "(379, 14)"
      ]
     },
     "execution_count": 10,
     "metadata": {},
     "output_type": "execute_result"
    }
   ],
   "source": [
    "x.shape"
   ]
  },
  {
   "cell_type": "code",
   "execution_count": 11,
   "metadata": {},
   "outputs": [
    {
     "data": {
      "text/html": [
       "<div>\n",
       "<style>\n",
       "    .dataframe thead tr:only-child th {\n",
       "        text-align: right;\n",
       "    }\n",
       "\n",
       "    .dataframe thead th {\n",
       "        text-align: left;\n",
       "    }\n",
       "\n",
       "    .dataframe tbody tr th {\n",
       "        vertical-align: top;\n",
       "    }\n",
       "</style>\n",
       "<table border=\"1\" class=\"dataframe\">\n",
       "  <thead>\n",
       "    <tr style=\"text-align: right;\">\n",
       "      <th></th>\n",
       "      <th>0</th>\n",
       "      <th>1</th>\n",
       "      <th>2</th>\n",
       "      <th>3</th>\n",
       "      <th>4</th>\n",
       "      <th>5</th>\n",
       "      <th>6</th>\n",
       "      <th>7</th>\n",
       "      <th>8</th>\n",
       "      <th>9</th>\n",
       "      <th>10</th>\n",
       "      <th>11</th>\n",
       "      <th>12</th>\n",
       "      <th>13</th>\n",
       "    </tr>\n",
       "  </thead>\n",
       "  <tbody>\n",
       "    <tr>\n",
       "      <th>count</th>\n",
       "      <td>379.000000</td>\n",
       "      <td>379.000000</td>\n",
       "      <td>379.000000</td>\n",
       "      <td>379.000000</td>\n",
       "      <td>379.000000</td>\n",
       "      <td>379.000000</td>\n",
       "      <td>379.000000</td>\n",
       "      <td>379.000000</td>\n",
       "      <td>379.000000</td>\n",
       "      <td>379.000000</td>\n",
       "      <td>379.000000</td>\n",
       "      <td>379.000000</td>\n",
       "      <td>379.000000</td>\n",
       "      <td>379.0</td>\n",
       "    </tr>\n",
       "    <tr>\n",
       "      <th>mean</th>\n",
       "      <td>0.019628</td>\n",
       "      <td>0.002455</td>\n",
       "      <td>0.036170</td>\n",
       "      <td>0.028955</td>\n",
       "      <td>0.028775</td>\n",
       "      <td>0.032202</td>\n",
       "      <td>0.038395</td>\n",
       "      <td>-0.001288</td>\n",
       "      <td>0.043307</td>\n",
       "      <td>0.043786</td>\n",
       "      <td>0.019218</td>\n",
       "      <td>-0.015785</td>\n",
       "      <td>0.018418</td>\n",
       "      <td>1.0</td>\n",
       "    </tr>\n",
       "    <tr>\n",
       "      <th>std</th>\n",
       "      <td>1.067490</td>\n",
       "      <td>1.000813</td>\n",
       "      <td>1.017497</td>\n",
       "      <td>1.048995</td>\n",
       "      <td>0.999656</td>\n",
       "      <td>1.001174</td>\n",
       "      <td>0.985209</td>\n",
       "      <td>1.027803</td>\n",
       "      <td>1.016265</td>\n",
       "      <td>1.019974</td>\n",
       "      <td>1.000296</td>\n",
       "      <td>1.015797</td>\n",
       "      <td>1.015377</td>\n",
       "      <td>0.0</td>\n",
       "    </tr>\n",
       "    <tr>\n",
       "      <th>min</th>\n",
       "      <td>-0.417713</td>\n",
       "      <td>-0.487722</td>\n",
       "      <td>-1.516987</td>\n",
       "      <td>-0.272599</td>\n",
       "      <td>-1.465882</td>\n",
       "      <td>-3.880249</td>\n",
       "      <td>-2.335437</td>\n",
       "      <td>-1.267069</td>\n",
       "      <td>-0.982843</td>\n",
       "      <td>-1.313990</td>\n",
       "      <td>-2.707379</td>\n",
       "      <td>-3.883072</td>\n",
       "      <td>-1.531127</td>\n",
       "      <td>1.0</td>\n",
       "    </tr>\n",
       "    <tr>\n",
       "      <th>25%</th>\n",
       "      <td>-0.408171</td>\n",
       "      <td>-0.487722</td>\n",
       "      <td>-0.867691</td>\n",
       "      <td>-0.272599</td>\n",
       "      <td>-0.878475</td>\n",
       "      <td>-0.571480</td>\n",
       "      <td>-0.768994</td>\n",
       "      <td>-0.829872</td>\n",
       "      <td>-0.637962</td>\n",
       "      <td>-0.755697</td>\n",
       "      <td>-0.488039</td>\n",
       "      <td>0.197588</td>\n",
       "      <td>-0.828856</td>\n",
       "      <td>1.0</td>\n",
       "    </tr>\n",
       "    <tr>\n",
       "      <th>50%</th>\n",
       "      <td>-0.383729</td>\n",
       "      <td>-0.487722</td>\n",
       "      <td>-0.180458</td>\n",
       "      <td>-0.272599</td>\n",
       "      <td>-0.144217</td>\n",
       "      <td>-0.103479</td>\n",
       "      <td>0.338718</td>\n",
       "      <td>-0.329213</td>\n",
       "      <td>-0.523001</td>\n",
       "      <td>-0.440915</td>\n",
       "      <td>0.297977</td>\n",
       "      <td>0.374827</td>\n",
       "      <td>-0.161629</td>\n",
       "      <td>1.0</td>\n",
       "    </tr>\n",
       "    <tr>\n",
       "      <th>75%</th>\n",
       "      <td>0.055208</td>\n",
       "      <td>0.156071</td>\n",
       "      <td>1.015999</td>\n",
       "      <td>-0.272599</td>\n",
       "      <td>0.628913</td>\n",
       "      <td>0.529069</td>\n",
       "      <td>0.911243</td>\n",
       "      <td>0.674172</td>\n",
       "      <td>1.661245</td>\n",
       "      <td>1.530926</td>\n",
       "      <td>0.806576</td>\n",
       "      <td>0.429868</td>\n",
       "      <td>0.647173</td>\n",
       "      <td>1.0</td>\n",
       "    </tr>\n",
       "    <tr>\n",
       "      <th>max</th>\n",
       "      <td>9.941735</td>\n",
       "      <td>3.804234</td>\n",
       "      <td>2.422565</td>\n",
       "      <td>3.668398</td>\n",
       "      <td>2.732346</td>\n",
       "      <td>3.555044</td>\n",
       "      <td>1.117494</td>\n",
       "      <td>3.960518</td>\n",
       "      <td>1.661245</td>\n",
       "      <td>1.798194</td>\n",
       "      <td>1.638828</td>\n",
       "      <td>0.441052</td>\n",
       "      <td>3.409999</td>\n",
       "      <td>1.0</td>\n",
       "    </tr>\n",
       "  </tbody>\n",
       "</table>\n",
       "</div>"
      ],
      "text/plain": [
       "               0           1           2           3           4           5   \\\n",
       "count  379.000000  379.000000  379.000000  379.000000  379.000000  379.000000   \n",
       "mean     0.019628    0.002455    0.036170    0.028955    0.028775    0.032202   \n",
       "std      1.067490    1.000813    1.017497    1.048995    0.999656    1.001174   \n",
       "min     -0.417713   -0.487722   -1.516987   -0.272599   -1.465882   -3.880249   \n",
       "25%     -0.408171   -0.487722   -0.867691   -0.272599   -0.878475   -0.571480   \n",
       "50%     -0.383729   -0.487722   -0.180458   -0.272599   -0.144217   -0.103479   \n",
       "75%      0.055208    0.156071    1.015999   -0.272599    0.628913    0.529069   \n",
       "max      9.941735    3.804234    2.422565    3.668398    2.732346    3.555044   \n",
       "\n",
       "               6           7           8           9           10          11  \\\n",
       "count  379.000000  379.000000  379.000000  379.000000  379.000000  379.000000   \n",
       "mean     0.038395   -0.001288    0.043307    0.043786    0.019218   -0.015785   \n",
       "std      0.985209    1.027803    1.016265    1.019974    1.000296    1.015797   \n",
       "min     -2.335437   -1.267069   -0.982843   -1.313990   -2.707379   -3.883072   \n",
       "25%     -0.768994   -0.829872   -0.637962   -0.755697   -0.488039    0.197588   \n",
       "50%      0.338718   -0.329213   -0.523001   -0.440915    0.297977    0.374827   \n",
       "75%      0.911243    0.674172    1.661245    1.530926    0.806576    0.429868   \n",
       "max      1.117494    3.960518    1.661245    1.798194    1.638828    0.441052   \n",
       "\n",
       "               12     13  \n",
       "count  379.000000  379.0  \n",
       "mean     0.018418    1.0  \n",
       "std      1.015377    0.0  \n",
       "min     -1.531127    1.0  \n",
       "25%     -0.828856    1.0  \n",
       "50%     -0.161629    1.0  \n",
       "75%      0.647173    1.0  \n",
       "max      3.409999    1.0  "
      ]
     },
     "execution_count": 11,
     "metadata": {},
     "output_type": "execute_result"
    }
   ],
   "source": [
    "import pandas as pd\n",
    "df = pd.DataFrame(x)\n",
    "df.describe()"
   ]
  },
  {
   "cell_type": "code",
   "execution_count": 12,
   "metadata": {
    "collapsed": true
   },
   "outputs": [],
   "source": [
    "m = np.zeros((14))"
   ]
  },
  {
   "cell_type": "code",
   "execution_count": 13,
   "metadata": {},
   "outputs": [
    {
     "data": {
      "text/plain": [
       "(14,)"
      ]
     },
     "execution_count": 13,
     "metadata": {},
     "output_type": "execute_result"
    }
   ],
   "source": [
    "m.shape"
   ]
  },
  {
   "cell_type": "code",
   "execution_count": 14,
   "metadata": {
    "collapsed": true
   },
   "outputs": [],
   "source": [
    "def step_gradient(x,y,learning_rate, m):\n",
    "    m_slope = np.zeros((14))\n",
    "    num_rows = 379\n",
    "    for i in range(num_rows):\n",
    "        x_rowwise = x[i, :]   #1 d np array with x values of ith row\n",
    "        y_rowwise = y[i]   # y value for ith row\n",
    "        m_slope += (-2/379)*(y_rowwise - (m*x_rowwise).sum())*x_rowwise\n",
    "    new_m  = np.zeros((14))\n",
    "    new_m = m - learning_rate * m_slope\n",
    "    return new_m"
   ]
  },
  {
   "cell_type": "code",
   "execution_count": 15,
   "metadata": {
    "collapsed": true
   },
   "outputs": [],
   "source": [
    "def cost(x,y,m):\n",
    "    total_cost = 0\n",
    "    for i in range(379): #for each row\n",
    "        x_rowwise = x[i] #1 d np array with x values of ith row\n",
    "        y_rowwise = y[i] # y value for ith row\n",
    "        new = x_rowwise*m # new is an array obtained by element by element multiplication of x_rowwise and m\n",
    "        mx_sum = 0 \n",
    "        for j in range(len(new)): #to calculate sum of elements of new\n",
    "            mx_sum += new[j]\n",
    "        total_cost += (1/379)*((y_rowwise - mx_sum)**2)\n",
    "    return total_cost"
   ]
  },
  {
   "cell_type": "code",
   "execution_count": 16,
   "metadata": {
    "collapsed": true
   },
   "outputs": [],
   "source": [
    "def gd(x,y,learning_rate, num_iterations,m):\n",
    "    for i in range(num_iterations):\n",
    "        m = step_gradient(x,y,learning_rate,m)\n",
    "        if(i%1000==99):\n",
    "            print(i, \"cost:\", cost(x,y,m))\n",
    "    return m"
   ]
  },
  {
   "cell_type": "code",
   "execution_count": null,
   "metadata": {
    "collapsed": true
   },
   "outputs": [],
   "source": [
    "def run():\n",
    "    learning_rate = 0.0001\n",
    "    num_iterations = 20000\n",
    "    m = np.zeros((14))\n",
    "    m = gd(x,y, learning_rate, num_iterations,m)\n",
    "    print (m)\n",
    "    return (m)"
   ]
  },
  {
   "cell_type": "code",
   "execution_count": null,
   "metadata": {},
   "outputs": [
    {
     "name": "stdout",
     "output_type": "stream",
     "text": [
      "99 cost: 571.9030557380705\n",
      "1099 cost: 377.43739887872334\n",
      "2099 cost: 258.41222923453023\n",
      "3099 cost: 180.50522530125392\n",
      "4099 cost: 128.94165742655937\n",
      "5099 cost: 94.68799729263444\n",
      "6099 cost: 71.8691757581379\n",
      "7099 cost: 56.62417414154014\n",
      "8099 cost: 46.406896085031036\n",
      "9099 cost: 39.53437457113763\n",
      "10099 cost: 34.891828562452865\n",
      "11099 cost: 31.739385365541317\n",
      "12099 cost: 29.585075609656936\n",
      "13099 cost: 28.101173825658165\n",
      "14099 cost: 27.068969298792357\n",
      "15099 cost: 26.342231853955322\n",
      "16099 cost: 25.82299949290325\n"
     ]
    }
   ],
   "source": [
    "m = run()"
   ]
  },
  {
   "cell_type": "code",
   "execution_count": null,
   "metadata": {},
   "outputs": [],
   "source": [
    "m"
   ]
  },
  {
   "cell_type": "code",
   "execution_count": null,
   "metadata": {},
   "outputs": [],
   "source": [
    "test_data = np.loadtxt(\"test_boston_x_test.csv\", delimiter = \",\")\n",
    "test_data.shape\n"
   ]
  },
  {
   "cell_type": "code",
   "execution_count": null,
   "metadata": {
    "collapsed": true
   },
   "outputs": [],
   "source": [
    "x_test = np.zeros((127, 14))\n",
    "x_test[:, :-1] = test_data\n",
    "x_test[:, -1] = 1"
   ]
  },
  {
   "cell_type": "code",
   "execution_count": null,
   "metadata": {},
   "outputs": [],
   "source": [
    "x_test.shape"
   ]
  },
  {
   "cell_type": "code",
   "execution_count": null,
   "metadata": {},
   "outputs": [],
   "source": [
    "test_df = pd.DataFrame(x_test)\n",
    "test_df.describe()"
   ]
  },
  {
   "cell_type": "code",
   "execution_count": null,
   "metadata": {
    "collapsed": true
   },
   "outputs": [],
   "source": [
    "y2 = np.zeros((127))\n",
    "for i in range(127):\n",
    "    x2 = x_test[i, :]\n",
    "    sum = 0\n",
    "    for j in range(14):\n",
    "        sum = sum + m[j] * x_test[i][j]\n",
    "    y2[i] = sum"
   ]
  },
  {
   "cell_type": "code",
   "execution_count": null,
   "metadata": {},
   "outputs": [],
   "source": [
    "y2"
   ]
  },
  {
   "cell_type": "code",
   "execution_count": null,
   "metadata": {
    "collapsed": true
   },
   "outputs": [],
   "source": [
    "np.savetxt(\"test_pred1.csv\",y2)"
   ]
  },
  {
   "cell_type": "code",
   "execution_count": null,
   "metadata": {
    "collapsed": true
   },
   "outputs": [],
   "source": []
  },
  {
   "cell_type": "code",
   "execution_count": null,
   "metadata": {
    "collapsed": true
   },
   "outputs": [],
   "source": []
  }
 ],
 "metadata": {
  "kernelspec": {
   "display_name": "Python 3",
   "language": "python",
   "name": "python3"
  },
  "language_info": {
   "codemirror_mode": {
    "name": "ipython",
    "version": 3
   },
   "file_extension": ".py",
   "mimetype": "text/x-python",
   "name": "python",
   "nbconvert_exporter": "python",
   "pygments_lexer": "ipython3",
   "version": "3.6.3"
  }
 },
 "nbformat": 4,
 "nbformat_minor": 2
}
