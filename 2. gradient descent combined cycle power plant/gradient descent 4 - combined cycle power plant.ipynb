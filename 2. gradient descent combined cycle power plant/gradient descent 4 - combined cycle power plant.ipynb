{
 "cells": [
  {
   "cell_type": "code",
   "execution_count": 1,
   "metadata": {
    "collapsed": true
   },
   "outputs": [],
   "source": [
    "import numpy as np\n",
    "data = np.loadtxt(\"0000000000002419_training_ccpp_x_y_train.csv\", delimiter = \",\")"
   ]
  },
  {
   "cell_type": "code",
   "execution_count": 2,
   "metadata": {},
   "outputs": [
    {
     "data": {
      "text/plain": [
       "array([[    8.58,    38.38,  1021.03,    84.37,   482.26],\n",
       "       [   21.79,    58.2 ,  1017.21,    66.74,   446.94],\n",
       "       [   16.64,    48.92,  1011.55,    78.76,   452.56],\n",
       "       ..., \n",
       "       [   29.8 ,    69.34,  1009.36,    64.74,   437.65],\n",
       "       [   16.37,    54.3 ,  1017.94,    63.63,   459.97],\n",
       "       [   30.11,    62.04,  1010.69,    47.96,   444.42]])"
      ]
     },
     "execution_count": 2,
     "metadata": {},
     "output_type": "execute_result"
    }
   ],
   "source": [
    "data"
   ]
  },
  {
   "cell_type": "code",
   "execution_count": 3,
   "metadata": {},
   "outputs": [
    {
     "data": {
      "text/plain": [
       "(7176, 5)"
      ]
     },
     "execution_count": 3,
     "metadata": {},
     "output_type": "execute_result"
    }
   ],
   "source": [
    "data.shape"
   ]
  },
  {
   "cell_type": "code",
   "execution_count": 4,
   "metadata": {},
   "outputs": [
    {
     "data": {
      "text/plain": [
       "array([    8.58,    38.38,  1021.03,    84.37,   482.26])"
      ]
     },
     "execution_count": 4,
     "metadata": {},
     "output_type": "execute_result"
    }
   ],
   "source": [
    "data[0,:]"
   ]
  },
  {
   "cell_type": "code",
   "execution_count": 5,
   "metadata": {},
   "outputs": [
    {
     "data": {
      "text/plain": [
       "array([[    8.58,    38.38,  1021.03,    84.37],\n",
       "       [   21.79,    58.2 ,  1017.21,    66.74],\n",
       "       [   16.64,    48.92,  1011.55,    78.76],\n",
       "       ..., \n",
       "       [   29.8 ,    69.34,  1009.36,    64.74],\n",
       "       [   16.37,    54.3 ,  1017.94,    63.63],\n",
       "       [   30.11,    62.04,  1010.69,    47.96]])"
      ]
     },
     "execution_count": 5,
     "metadata": {},
     "output_type": "execute_result"
    }
   ],
   "source": [
    "x1 = data[:, 0:4]\n",
    "x1"
   ]
  },
  {
   "cell_type": "code",
   "execution_count": 6,
   "metadata": {},
   "outputs": [
    {
     "data": {
      "text/plain": [
       "(7176,)"
      ]
     },
     "execution_count": 6,
     "metadata": {},
     "output_type": "execute_result"
    }
   ],
   "source": [
    "y = data[:, 4]\n",
    "y.shape"
   ]
  },
  {
   "cell_type": "code",
   "execution_count": 7,
   "metadata": {
    "collapsed": true
   },
   "outputs": [],
   "source": [
    "x = np.zeros((7176, 5))\n",
    "x[:, :-1] = x1\n",
    "x[:, -1] = 1"
   ]
  },
  {
   "cell_type": "code",
   "execution_count": 8,
   "metadata": {},
   "outputs": [
    {
     "data": {
      "text/plain": [
       "(7176, 5)"
      ]
     },
     "execution_count": 8,
     "metadata": {},
     "output_type": "execute_result"
    }
   ],
   "source": [
    "x.shape"
   ]
  },
  {
   "cell_type": "code",
   "execution_count": 9,
   "metadata": {},
   "outputs": [
    {
     "data": {
      "text/html": [
       "<div>\n",
       "<style>\n",
       "    .dataframe thead tr:only-child th {\n",
       "        text-align: right;\n",
       "    }\n",
       "\n",
       "    .dataframe thead th {\n",
       "        text-align: left;\n",
       "    }\n",
       "\n",
       "    .dataframe tbody tr th {\n",
       "        vertical-align: top;\n",
       "    }\n",
       "</style>\n",
       "<table border=\"1\" class=\"dataframe\">\n",
       "  <thead>\n",
       "    <tr style=\"text-align: right;\">\n",
       "      <th></th>\n",
       "      <th>0</th>\n",
       "      <th>1</th>\n",
       "      <th>2</th>\n",
       "      <th>3</th>\n",
       "      <th>4</th>\n",
       "    </tr>\n",
       "  </thead>\n",
       "  <tbody>\n",
       "    <tr>\n",
       "      <th>count</th>\n",
       "      <td>7176.000000</td>\n",
       "      <td>7176.000000</td>\n",
       "      <td>7176.000000</td>\n",
       "      <td>7176.000000</td>\n",
       "      <td>7176.0</td>\n",
       "    </tr>\n",
       "    <tr>\n",
       "      <th>mean</th>\n",
       "      <td>19.629712</td>\n",
       "      <td>54.288154</td>\n",
       "      <td>1013.263032</td>\n",
       "      <td>73.275818</td>\n",
       "      <td>1.0</td>\n",
       "    </tr>\n",
       "    <tr>\n",
       "      <th>std</th>\n",
       "      <td>7.475256</td>\n",
       "      <td>12.751468</td>\n",
       "      <td>5.964863</td>\n",
       "      <td>14.625093</td>\n",
       "      <td>0.0</td>\n",
       "    </tr>\n",
       "    <tr>\n",
       "      <th>min</th>\n",
       "      <td>1.810000</td>\n",
       "      <td>25.360000</td>\n",
       "      <td>992.890000</td>\n",
       "      <td>25.560000</td>\n",
       "      <td>1.0</td>\n",
       "    </tr>\n",
       "    <tr>\n",
       "      <th>25%</th>\n",
       "      <td>13.470000</td>\n",
       "      <td>41.740000</td>\n",
       "      <td>1009.010000</td>\n",
       "      <td>63.202500</td>\n",
       "      <td>1.0</td>\n",
       "    </tr>\n",
       "    <tr>\n",
       "      <th>50%</th>\n",
       "      <td>20.315000</td>\n",
       "      <td>52.050000</td>\n",
       "      <td>1012.910000</td>\n",
       "      <td>74.895000</td>\n",
       "      <td>1.0</td>\n",
       "    </tr>\n",
       "    <tr>\n",
       "      <th>75%</th>\n",
       "      <td>25.720000</td>\n",
       "      <td>66.540000</td>\n",
       "      <td>1017.302500</td>\n",
       "      <td>84.925000</td>\n",
       "      <td>1.0</td>\n",
       "    </tr>\n",
       "    <tr>\n",
       "      <th>max</th>\n",
       "      <td>35.770000</td>\n",
       "      <td>81.560000</td>\n",
       "      <td>1033.300000</td>\n",
       "      <td>100.160000</td>\n",
       "      <td>1.0</td>\n",
       "    </tr>\n",
       "  </tbody>\n",
       "</table>\n",
       "</div>"
      ],
      "text/plain": [
       "                 0            1            2            3       4\n",
       "count  7176.000000  7176.000000  7176.000000  7176.000000  7176.0\n",
       "mean     19.629712    54.288154  1013.263032    73.275818     1.0\n",
       "std       7.475256    12.751468     5.964863    14.625093     0.0\n",
       "min       1.810000    25.360000   992.890000    25.560000     1.0\n",
       "25%      13.470000    41.740000  1009.010000    63.202500     1.0\n",
       "50%      20.315000    52.050000  1012.910000    74.895000     1.0\n",
       "75%      25.720000    66.540000  1017.302500    84.925000     1.0\n",
       "max      35.770000    81.560000  1033.300000   100.160000     1.0"
      ]
     },
     "execution_count": 9,
     "metadata": {},
     "output_type": "execute_result"
    }
   ],
   "source": [
    "import pandas as pd\n",
    "df = pd.DataFrame(x)\n",
    "df.describe()"
   ]
  },
  {
   "cell_type": "code",
   "execution_count": 10,
   "metadata": {},
   "outputs": [
    {
     "data": {
      "text/plain": [
       "array([ 0.,  0.,  0.,  0.,  0.])"
      ]
     },
     "execution_count": 10,
     "metadata": {},
     "output_type": "execute_result"
    }
   ],
   "source": [
    "m = np.zeros((5))\n",
    "m"
   ]
  },
  {
   "cell_type": "code",
   "execution_count": 11,
   "metadata": {},
   "outputs": [
    {
     "data": {
      "text/plain": [
       "(5,)"
      ]
     },
     "execution_count": 11,
     "metadata": {},
     "output_type": "execute_result"
    }
   ],
   "source": [
    "m.shape"
   ]
  },
  {
   "cell_type": "code",
   "execution_count": 12,
   "metadata": {
    "collapsed": true
   },
   "outputs": [],
   "source": [
    "def step_gradient(x,y,learning_rate, m):\n",
    "    m_slope = np.zeros((5))\n",
    "    num_rows = 7176\n",
    "    for i in range(num_rows):\n",
    "        x_rowwise = x[i, :]   #1 d np array with x values of ith row\n",
    "        y_rowwise = y[i]   # y value for ith row\n",
    "        m_slope += (-2/7176)*(y_rowwise - (m*x_rowwise).sum())*x_rowwise\n",
    "    new_m  = np.zeros((5))\n",
    "    new_m = m - learning_rate * m_slope\n",
    "    return new_m"
   ]
  },
  {
   "cell_type": "code",
   "execution_count": 13,
   "metadata": {
    "collapsed": true
   },
   "outputs": [],
   "source": [
    "def cost(x,y,m):\n",
    "    total_cost = 0\n",
    "    for i in range(7176): #for each row\n",
    "        x_rowwise = x[i] #1 d np array with x values of ith row\n",
    "        y_rowwise = y[i] # y value for ith row\n",
    "        new = x_rowwise*m # new is an array obtained by element by element multiplication of x_rowwise and m\n",
    "        mx_sum = 0 \n",
    "        for j in range(len(new)): #to calculate sum of elements of new\n",
    "            mx_sum += new[j]\n",
    "        total_cost += (1/7176)*((y_rowwise - mx_sum)**2)\n",
    "    return total_cost"
   ]
  },
  {
   "cell_type": "code",
   "execution_count": 14,
   "metadata": {
    "collapsed": true
   },
   "outputs": [],
   "source": [
    "def gd(x,y,learning_rate, num_iterations,m):\n",
    "    for i in range(num_iterations):\n",
    "        m = step_gradient(x,y,learning_rate,m)\n",
    "        if(i%1000==99):\n",
    "            print(i, \"cost:\", cost(x,y,m))\n",
    "    return m"
   ]
  },
  {
   "cell_type": "code",
   "execution_count": 15,
   "metadata": {
    "collapsed": true
   },
   "outputs": [],
   "source": [
    "def run():\n",
    "    learning_rate = 0.0000001\n",
    "    num_iterations = 150000\n",
    "    m = np.zeros((5))\n",
    "    m = gd(x,y, learning_rate, num_iterations,m)\n",
    "    print (m)\n",
    "    return (m)"
   ]
  },
  {
   "cell_type": "code",
   "execution_count": 16,
   "metadata": {},
   "outputs": [
    {
     "name": "stdout",
     "output_type": "stream",
     "text": [
      "99 cost: 255.672083638\n",
      "1099 cost: 235.847120215\n",
      "2099 cost: 218.007712495\n",
      "3099 cost: 201.945751901\n",
      "4099 cost: 187.475439179\n",
      "5099 cost: 174.4308656\n",
      "6099 cost: 162.66385788\n",
      "7099 cost: 152.042057982\n",
      "8099 cost: 142.447212121\n",
      "9099 cost: 133.773646125\n",
      "10099 cost: 125.926906766\n",
      "11099 cost: 118.822550954\n",
      "12099 cost: 112.385066631\n",
      "13099 cost: 106.546910979\n",
      "14099 cost: 101.247653156\n",
      "15099 cost: 96.433210117\n",
      "16099 cost: 92.0551654031\n",
      "17099 cost: 88.0701618113\n",
      "18099 cost: 84.4393599123\n",
      "19099 cost: 81.1279552276\n",
      "20099 cost: 78.1047476737\n",
      "21099 cost: 75.3417575814\n",
      "22099 cost: 72.8138832161\n",
      "23099 cost: 70.4985952822\n",
      "24099 cost: 68.375664387\n",
      "25099 cost: 66.4269178798\n",
      "26099 cost: 64.6360228711\n",
      "27099 cost: 62.9882925904\n",
      "28099 cost: 61.4705135444\n",
      "29099 cost: 60.0707912209\n",
      "30099 cost: 58.7784123256\n",
      "31099 cost: 57.5837217599\n",
      "32099 cost: 56.4780127428\n",
      "33099 cost: 55.4534286543\n",
      "34099 cost: 54.5028753327\n",
      "35099 cost: 53.6199426959\n",
      "36099 cost: 52.7988346797\n",
      "37099 cost: 52.0343065966\n",
      "38099 cost: 51.3216091149\n",
      "39099 cost: 50.6564381453\n",
      "40099 cost: 50.0348900005\n",
      "41099 cost: 49.4534212609\n",
      "42099 cost: 48.9088128411\n",
      "43099 cost: 48.3981378086\n",
      "44099 cost: 47.9187325519\n",
      "45099 cost: 47.4681709411\n",
      "46099 cost: 47.044241161\n",
      "47099 cost: 46.6449249335\n",
      "48099 cost: 46.2683788739\n",
      "49099 cost: 45.9129177559\n",
      "50099 cost: 45.5769994822\n",
      "51099 cost: 45.2592115814\n",
      "52099 cost: 44.95825907\n",
      "53099 cost: 44.6729535355\n",
      "54099 cost: 44.4022033129\n",
      "55099 cost: 44.1450046407\n",
      "56099 cost: 43.9004336931\n",
      "57099 cost: 43.6676393977\n",
      "58099 cost: 43.4458369577\n",
      "59099 cost: 43.2343020055\n",
      "60099 cost: 43.0323653214\n",
      "61099 cost: 42.8394080621\n",
      "62099 cost: 42.6548574441\n",
      "63099 cost: 42.4781828371\n",
      "64099 cost: 42.3088922255\n",
      "65099 cost: 42.1465290011\n",
      "66099 cost: 41.9906690529\n",
      "67099 cost: 41.8409181252\n",
      "68099 cost: 41.6969094167\n",
      "69099 cost: 41.558301397\n",
      "70099 cost: 41.4247758187\n",
      "71099 cost: 41.2960359067\n",
      "72099 cost: 41.1718047068\n",
      "73099 cost: 41.051823578\n",
      "74099 cost: 40.9358508156\n",
      "75099 cost: 40.8236603918\n",
      "76099 cost: 40.7150408029\n",
      "77099 cost: 40.6097940135\n",
      "78099 cost: 40.5077344873\n",
      "79099 cost: 40.4086882988\n",
      "80099 cost: 40.3124923157\n",
      "81099 cost: 40.218993448\n",
      "82099 cost: 40.1280479559\n",
      "83099 cost: 40.0395208129\n",
      "84099 cost: 39.9532851173\n",
      "85099 cost: 39.8692215498\n",
      "86099 cost: 39.787217872\n",
      "87099 cost: 39.707168462\n",
      "88099 cost: 39.6289738854\n",
      "89099 cost: 39.5525404971\n",
      "90099 cost: 39.4777800724\n",
      "91099 cost: 39.404609464\n",
      "92099 cost: 39.3329502842\n",
      "93099 cost: 39.2627286089\n",
      "94099 cost: 39.1938747019\n",
      "95099 cost: 39.1263227591\n",
      "96099 cost: 39.0600106691\n",
      "97099 cost: 38.9948797904\n",
      "98099 cost: 38.9308747437\n",
      "99099 cost: 38.8679432173\n",
      "100099 cost: 38.8060357858\n",
      "101099 cost: 38.7451057401\n",
      "102099 cost: 38.6851089291\n",
      "103099 cost: 38.62600361\n",
      "104099 cost: 38.5677503099\n",
      "105099 cost: 38.5103116946\n",
      "106099 cost: 38.4536524464\n",
      "107099 cost: 38.3977391488\n",
      "108099 cost: 38.3425401788\n",
      "109099 cost: 38.2880256057\n",
      "110099 cost: 38.2341670954\n",
      "111099 cost: 38.180937821\n",
      "112099 cost: 38.1283123789\n",
      "113099 cost: 38.0762667091\n",
      "114099 cost: 38.0247780209\n",
      "115099 cost: 37.9738247225\n",
      "116099 cost: 37.9233863551\n",
      "117099 cost: 37.8734435302\n",
      "118099 cost: 37.8239778713\n",
      "119099 cost: 37.7749719582\n",
      "120099 cost: 37.7264092751\n",
      "121099 cost: 37.6782741611\n",
      "122099 cost: 37.6305517636\n",
      "123099 cost: 37.5832279952\n",
      "124099 cost: 37.5362894912\n",
      "125099 cost: 37.4897235717\n",
      "126099 cost: 37.4435182038\n",
      "127099 cost: 37.3976619672\n",
      "128099 cost: 37.3521440211\n",
      "129099 cost: 37.3069540734\n",
      "130099 cost: 37.262082351\n",
      "131099 cost: 37.217519572\n",
      "132099 cost: 37.17325692\n",
      "133099 cost: 37.1292860184\n",
      "134099 cost: 37.0855989077\n",
      "135099 cost: 37.0421880232\n",
      "136099 cost: 36.9990461734\n",
      "137099 cost: 36.9561665211\n",
      "138099 cost: 36.9135425639\n",
      "139099 cost: 36.8711681167\n",
      "140099 cost: 36.8290372951\n",
      "141099 cost: 36.7871444992\n",
      "142099 cost: 36.7454843986\n",
      "143099 cost: 36.7040519185\n",
      "144099 cost: 36.6628422258\n",
      "145099 cost: 36.6218507167\n",
      "146099 cost: 36.5810730043\n",
      "147099 cost: 36.5405049075\n",
      "148099 cost: 36.5001424402\n",
      "149099 cost: 36.4599818007\n",
      "[ -7.19671252e-01  -7.12019952e-01   4.96516182e-01   5.60416716e-02\n",
      "   3.89638262e-04]\n"
     ]
    }
   ],
   "source": [
    "m = run()"
   ]
  },
  {
   "cell_type": "code",
   "execution_count": 20,
   "metadata": {},
   "outputs": [
    {
     "data": {
      "text/plain": [
       "array([ -7.19671252e-01,  -7.12019952e-01,   4.96516182e-01,\n",
       "         5.60416716e-02,   3.89638262e-04])"
      ]
     },
     "execution_count": 20,
     "metadata": {},
     "output_type": "execute_result"
    }
   ],
   "source": [
    "m"
   ]
  },
  {
   "cell_type": "code",
   "execution_count": 21,
   "metadata": {},
   "outputs": [
    {
     "data": {
      "text/plain": [
       "(2392, 4)"
      ]
     },
     "execution_count": 21,
     "metadata": {},
     "output_type": "execute_result"
    }
   ],
   "source": [
    "test_data = np.loadtxt(\"0000000000002419_test_ccpp_x_test.csv\", delimiter = \",\")\n",
    "test_data.shape"
   ]
  },
  {
   "cell_type": "code",
   "execution_count": 23,
   "metadata": {},
   "outputs": [],
   "source": [
    "x_test = np.zeros((2392, 5))\n",
    "x_test[:, :-1] = test_data\n",
    "x_test[:, -1] = 1"
   ]
  },
  {
   "cell_type": "code",
   "execution_count": 24,
   "metadata": {},
   "outputs": [
    {
     "data": {
      "text/plain": [
       "(2392, 5)"
      ]
     },
     "execution_count": 24,
     "metadata": {},
     "output_type": "execute_result"
    }
   ],
   "source": [
    "x_test.shape"
   ]
  },
  {
   "cell_type": "code",
   "execution_count": 25,
   "metadata": {},
   "outputs": [
    {
     "data": {
      "text/html": [
       "<div>\n",
       "<style>\n",
       "    .dataframe thead tr:only-child th {\n",
       "        text-align: right;\n",
       "    }\n",
       "\n",
       "    .dataframe thead th {\n",
       "        text-align: left;\n",
       "    }\n",
       "\n",
       "    .dataframe tbody tr th {\n",
       "        vertical-align: top;\n",
       "    }\n",
       "</style>\n",
       "<table border=\"1\" class=\"dataframe\">\n",
       "  <thead>\n",
       "    <tr style=\"text-align: right;\">\n",
       "      <th></th>\n",
       "      <th>0</th>\n",
       "      <th>1</th>\n",
       "      <th>2</th>\n",
       "      <th>3</th>\n",
       "      <th>4</th>\n",
       "    </tr>\n",
       "  </thead>\n",
       "  <tbody>\n",
       "    <tr>\n",
       "      <th>count</th>\n",
       "      <td>2392.00000</td>\n",
       "      <td>2392.000000</td>\n",
       "      <td>2392.000000</td>\n",
       "      <td>2392.000000</td>\n",
       "      <td>2392.0</td>\n",
       "    </tr>\n",
       "    <tr>\n",
       "      <th>mean</th>\n",
       "      <td>19.71579</td>\n",
       "      <td>54.358754</td>\n",
       "      <td>1013.247216</td>\n",
       "      <td>73.408457</td>\n",
       "      <td>1.0</td>\n",
       "    </tr>\n",
       "    <tr>\n",
       "      <th>std</th>\n",
       "      <td>7.38488</td>\n",
       "      <td>12.578763</td>\n",
       "      <td>5.861068</td>\n",
       "      <td>14.528135</td>\n",
       "      <td>0.0</td>\n",
       "    </tr>\n",
       "    <tr>\n",
       "      <th>min</th>\n",
       "      <td>3.38000</td>\n",
       "      <td>25.360000</td>\n",
       "      <td>993.740000</td>\n",
       "      <td>26.670000</td>\n",
       "      <td>1.0</td>\n",
       "    </tr>\n",
       "    <tr>\n",
       "      <th>25%</th>\n",
       "      <td>13.66000</td>\n",
       "      <td>41.730000</td>\n",
       "      <td>1009.300000</td>\n",
       "      <td>63.615000</td>\n",
       "      <td>1.0</td>\n",
       "    </tr>\n",
       "    <tr>\n",
       "      <th>50%</th>\n",
       "      <td>20.45000</td>\n",
       "      <td>52.750000</td>\n",
       "      <td>1013.025000</td>\n",
       "      <td>75.090000</td>\n",
       "      <td>1.0</td>\n",
       "    </tr>\n",
       "    <tr>\n",
       "      <th>75%</th>\n",
       "      <td>25.67250</td>\n",
       "      <td>66.490000</td>\n",
       "      <td>1017.172500</td>\n",
       "      <td>84.497500</td>\n",
       "      <td>1.0</td>\n",
       "    </tr>\n",
       "    <tr>\n",
       "      <th>max</th>\n",
       "      <td>37.11000</td>\n",
       "      <td>80.250000</td>\n",
       "      <td>1033.290000</td>\n",
       "      <td>100.130000</td>\n",
       "      <td>1.0</td>\n",
       "    </tr>\n",
       "  </tbody>\n",
       "</table>\n",
       "</div>"
      ],
      "text/plain": [
       "                0            1            2            3       4\n",
       "count  2392.00000  2392.000000  2392.000000  2392.000000  2392.0\n",
       "mean     19.71579    54.358754  1013.247216    73.408457     1.0\n",
       "std       7.38488    12.578763     5.861068    14.528135     0.0\n",
       "min       3.38000    25.360000   993.740000    26.670000     1.0\n",
       "25%      13.66000    41.730000  1009.300000    63.615000     1.0\n",
       "50%      20.45000    52.750000  1013.025000    75.090000     1.0\n",
       "75%      25.67250    66.490000  1017.172500    84.497500     1.0\n",
       "max      37.11000    80.250000  1033.290000   100.130000     1.0"
      ]
     },
     "execution_count": 25,
     "metadata": {},
     "output_type": "execute_result"
    }
   ],
   "source": [
    "test_df = pd.DataFrame(x_test)\n",
    "test_df.describe()"
   ]
  },
  {
   "cell_type": "code",
   "execution_count": 26,
   "metadata": {
    "collapsed": true
   },
   "outputs": [],
   "source": [
    "y2 = np.zeros((2392))\n",
    "for i in range(2392):\n",
    "    x2 = x_test[i, :]\n",
    "    sum = 0\n",
    "    for j in range(5):\n",
    "        sum = sum + m[j] * x_test[i][j]\n",
    "    y2[i] = sum"
   ]
  },
  {
   "cell_type": "code",
   "execution_count": 27,
   "metadata": {},
   "outputs": [
    {
     "data": {
      "text/plain": [
       "array([ 471.81268372,  471.4625995 ,  430.98236464, ...,  441.50584638,\n",
       "        459.72848756,  452.12393419])"
      ]
     },
     "execution_count": 27,
     "metadata": {},
     "output_type": "execute_result"
    }
   ],
   "source": [
    "y2"
   ]
  },
  {
   "cell_type": "code",
   "execution_count": 28,
   "metadata": {
    "collapsed": true
   },
   "outputs": [],
   "source": [
    "np.savetxt(\"pred1.csv\",y2)"
   ]
  },
  {
   "cell_type": "code",
   "execution_count": null,
   "metadata": {
    "collapsed": true
   },
   "outputs": [],
   "source": []
  }
 ],
 "metadata": {
  "kernelspec": {
   "display_name": "Python 3",
   "language": "python",
   "name": "python3"
  },
  "language_info": {
   "codemirror_mode": {
    "name": "ipython",
    "version": 3
   },
   "file_extension": ".py",
   "mimetype": "text/x-python",
   "name": "python",
   "nbconvert_exporter": "python",
   "pygments_lexer": "ipython3",
   "version": "3.6.3"
  }
 },
 "nbformat": 4,
 "nbformat_minor": 2
}
